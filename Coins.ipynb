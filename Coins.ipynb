{
 "cells": [
  {
   "cell_type": "markdown",
   "metadata": {},
   "source": [
    "# Archaeological Data Analysis: lab module 1\n",
    "\n",
    "### Author:  KENDALL SWANSON"
   ]
  },
  {
   "cell_type": "markdown",
   "metadata": {},
   "source": [
    "# Exploring a data set\n",
    "\n",
    "In this notebook, you'll download a data set derived from the openly licensed content of the [Online Coins of the Roman Empire](http://numismatics.org/ocre/) (OCRE). The original data set is available from <http://nomisma.org/> RDF XML format.  We'l work with a version formatted as a delimited-text file, using `#` as the column delimiter, with a header line labelling each column.\n",
    "\n",
    "As with any data set, our first task is to figure out what kinds of data it contains, and what the range of values are for each category of data. We'll examine the contents of several columns of data.\n",
    "\n",
    "\n"
   ]
  },
  {
   "cell_type": "markdown",
   "metadata": {},
   "source": [
    "## Download delimited-text data\n",
    "\n",
    "We'll make the standard Scala `Source` object available by `import`ing it, then use it to retrieve the content of a URL."
   ]
  },
  {
   "cell_type": "code",
   "execution_count": 1,
   "metadata": {
    "inputHidden": false,
    "outputHidden": false
   },
   "outputs": [
    {
     "data": {
      "text/plain": [
       "\u001b[32mimport \u001b[39m\u001b[36mscala.io.Source\n",
       "\u001b[39m\n",
       "\u001b[36mocreCex\u001b[39m: \u001b[32mString\u001b[39m = \u001b[32m\"https://raw.githubusercontent.com/neelsmith/nomisma/master/cex/ocre-cite-ids.cex\"\u001b[39m"
      ]
     },
     "execution_count": 1,
     "metadata": {},
     "output_type": "execute_result"
    }
   ],
   "source": [
    "import scala.io.Source\n",
    "val ocreCex = \"https://raw.githubusercontent.com/neelsmith/nomisma/master/cex/ocre-cite-ids.cex\""
   ]
  },
  {
   "cell_type": "markdown",
   "metadata": {},
   "source": [
    "We'll extract a sequence of lines from the URL source, and convert them to our favorite type of Scala collection, a `Vector`.\n",
    "\n",
    "(The following cell downloads the data:  depending on your internet connection, this might take a moment.)"
   ]
  },
  {
   "cell_type": "code",
   "execution_count": 2,
   "metadata": {
    "inputHidden": false,
    "outputHidden": false
   },
   "outputs": [
    {
     "data": {
      "text/plain": [
       "\u001b[36mlines\u001b[39m: \u001b[32mVector\u001b[39m[\u001b[32mString\u001b[39m] = \u001b[33mVector\u001b[39m(\n",
       "  \u001b[32m\"ID#Label#Denomination#Metal#Authority#Mint#Region#ObvType#ObvLegend#ObvPortraitId#RevType#RevLegend#RevPortraitId#StartDate#EndDate\"\u001b[39m,\n",
       "  \u001b[32m\"3.com.43#RIC III Commodus 43#denarius#ar#commodus#rome#italy#Head of Commodus, laureate, right#M COMMODVS ANTONINVS AVG#http://nomisma.org/id/commodus#Roma, helmeted, draped, standing left, holding Victory in extended right hand and vertical spear in left hand#TR P VII IMP V COS III P P#http://collection.britishmuseum.org/id/person-institution/60208#182#182\"\u001b[39m,\n",
       "  \u001b[32m\"9.thes.27B.iii#RIC IX Thessalonica 27B: Subtype iii#ae3#ae#valentinian_i#thessalonica#macedonia#Bust of Valens, pearl-diademed, draped and cuirassed, right#D N VALEN-S P F AVG#http://nomisma.org/id/valens#Victory advancing left, holding wreath and palm#SECVRITAS-REIPVBLICAE#http://collection.britishmuseum.org/id/person-institution/60915#367#375\"\u001b[39m,\n",
       "  \u001b[32m\"9.thes.27B.ii#RIC IX Thessalonica 27B: Subtype ii#ae3#ae#valentinian_i#thessalonica#macedonia#Bust of Valens, pearl-diademed, draped and cuirassed, right#D N VALEN-S P F AVG#http://nomisma.org/id/valens#Victory advancing left, holding wreath and palm#SECVRITAS-REIPVBLICAE#http://collection.britishmuseum.org/id/person-institution/60915#367#375\"\u001b[39m,\n",
       "  \u001b[32m\"4.sa.26d#RIC IV Severus Alexander 26d#aureus#av#severus_alexander#rome#italy#Bust of Severus Alexander, larueate, draped, cuirassed, right#IMP C M AVR SEV ALEXAND AVG#http://nomisma.org/id/severus_alexander#Pax, draped, standing left, holding olive branch in right hand and sceptre in left hand#P M TR P II COS P P#http://collection.britishmuseum.org/id/person-institution/76227#223#223\"\u001b[39m,\n",
       "  \u001b[32m\"9.thes.18A.xxv#RIC IX Thessalonica 18A: Subtype xxv#ae3#ae#valentinian_i#thessalonica#macedonia#Bust of Valentinian I, pearl-diademed, draped and cuirassed, right#D N VALENTINI-ANVS P F AVG#http://nomisma.org/id/valentinian_i#Victory advancing left, holding wreath and palm#SECVRITAS-REIPVBLICAE#http://collection.britishmuseum.org/id/person-institution/60915#364#367\"\u001b[39m,\n",
       "  \u001b[32m\"6.rom.327b#RIC VI Rome 327b#ae2#ae#constantine_i#rome#italy#Bust of Maximinus Daia, laureate, draped, right, seen from behind#IMP MAXIMINVS P F AVG#http://nomisma.org/id/maximinus_daia#Sol, chlamys hanging behind, standing left, raising right hand and holding globe close to body in left hand#SOLI INVIC-TO COMITI#http://collection.britishmuseum.org/id/person-institution/58616#312#313\"\u001b[39m,\n",
       "  \u001b[32m\"6.rom.325#RIC VI Rome 325#ae2#ae#constantine_i#rome#italy#Bust of Constantine I, laureate, cuirassed, right#IMP C CONSTANTINVS P F AVG#http://nomisma.org/id/constantine_i#Sol, chlamys hanging behind, standing left, raising right hand and holding globe close to body in left hand#SOLI INVIC-TO COMITI#http://collection.britishmuseum.org/id/person-institution/58616#312#313\"\u001b[39m,\n",
       "  \u001b[32m\"6.rom.323c#RIC VI Rome 323c#ae2#ae#constantine_i#rome#italy#Bust of Licinius,\u001b[39m..."
      ]
     },
     "execution_count": 2,
     "metadata": {},
     "output_type": "execute_result"
    }
   ],
   "source": [
    "val lines = Source.fromURL(ocreCex).getLines.toVector"
   ]
  },
  {
   "cell_type": "markdown",
   "metadata": {},
   "source": [
    "## Examine header line\n",
    "\n",
    "To start with, let's see what the first line looks like, and compare it with the first data line."
   ]
  },
  {
   "cell_type": "code",
   "execution_count": 4,
   "metadata": {},
   "outputs": [
    {
     "data": {
      "text/plain": [
       "\u001b[36mres3\u001b[39m: \u001b[32mString\u001b[39m = \u001b[32m\"ID#Label#Denomination#Metal#Authority#Mint#Region#ObvType#ObvLegend#ObvPortraitId#RevType#RevLegend#RevPortraitId#StartDate#EndDate\"\u001b[39m"
      ]
     },
     "execution_count": 4,
     "metadata": {},
     "output_type": "execute_result"
    }
   ],
   "source": [
    "lines.head // same as lines(0)"
   ]
  },
  {
   "cell_type": "code",
   "execution_count": 3,
   "metadata": {
    "inputHidden": false,
    "outputHidden": false
   },
   "outputs": [
    {
     "data": {
      "text/plain": [
       "\u001b[36mres2\u001b[39m: \u001b[32mString\u001b[39m = \u001b[32m\"3.com.43#RIC III Commodus 43#denarius#ar#commodus#rome#italy#Head of Commodus, laureate, right#M COMMODVS ANTONINVS AVG#http://nomisma.org/id/commodus#Roma, helmeted, draped, standing left, holding Victory in extended right hand and vertical spear in left hand#TR P VII IMP V COS III P P#http://collection.britishmuseum.org/id/person-institution/60208#182#182\"\u001b[39m"
      ]
     },
     "execution_count": 3,
     "metadata": {},
     "output_type": "execute_result"
    }
   ],
   "source": [
    "lines(1)"
   ]
  },
  {
   "cell_type": "markdown",
   "metadata": {},
   "source": [
    "## Split data strings into columns\n",
    "\n",
    "Every line is a `String`.  If we break it up using the `split` method, we get an `Array` of `String`s, which we'll convert to a `Vector` of `String`s.  The end result will be that from a Vector of Strings, we create a Vector of Vectors of Strings.  Notice that Scala identifies the class of the new `data` expression as  `Vector[Vector[String]]`.\n",
    " "
   ]
  },
  {
   "cell_type": "code",
   "execution_count": 5,
   "metadata": {
    "inputHidden": false,
    "outputHidden": false
   },
   "outputs": [
    {
     "data": {
      "text/plain": [
       "\u001b[36mdata\u001b[39m: \u001b[32mVector\u001b[39m[\u001b[32mVector\u001b[39m[\u001b[32mString\u001b[39m]] = \u001b[33mVector\u001b[39m(\n",
       "  \u001b[33mVector\u001b[39m(\n",
       "    \u001b[32m\"3.com.43\"\u001b[39m,\n",
       "    \u001b[32m\"RIC III Commodus 43\"\u001b[39m,\n",
       "    \u001b[32m\"denarius\"\u001b[39m,\n",
       "    \u001b[32m\"ar\"\u001b[39m,\n",
       "    \u001b[32m\"commodus\"\u001b[39m,\n",
       "    \u001b[32m\"rome\"\u001b[39m,\n",
       "    \u001b[32m\"italy\"\u001b[39m,\n",
       "    \u001b[32m\"Head of Commodus, laureate, right\"\u001b[39m,\n",
       "    \u001b[32m\"M COMMODVS ANTONINVS AVG\"\u001b[39m,\n",
       "    \u001b[32m\"http://nomisma.org/id/commodus\"\u001b[39m,\n",
       "    \u001b[32m\"Roma, helmeted, draped, standing left, holding Victory in extended right hand and vertical spear in left hand\"\u001b[39m,\n",
       "    \u001b[32m\"TR P VII IMP V COS III P P\"\u001b[39m,\n",
       "    \u001b[32m\"http://collection.britishmuseum.org/id/person-institution/60208\"\u001b[39m,\n",
       "    \u001b[32m\"182\"\u001b[39m,\n",
       "    \u001b[32m\"182\"\u001b[39m\n",
       "  ),\n",
       "  \u001b[33mVector\u001b[39m(\n",
       "    \u001b[32m\"9.thes.27B.iii\"\u001b[39m,\n",
       "    \u001b[32m\"RIC IX Thessalonica 27B: Subtype iii\"\u001b[39m,\n",
       "    \u001b[32m\"ae3\"\u001b[39m,\n",
       "    \u001b[32m\"ae\"\u001b[39m,\n",
       "    \u001b[32m\"valentinian_i\"\u001b[39m,\n",
       "    \u001b[32m\"thessalonica\"\u001b[39m,\n",
       "    \u001b[32m\"macedonia\"\u001b[39m,\n",
       "    \u001b[32m\"Bust of Valens, pearl-diademed, draped and cuirassed, right\"\u001b[39m,\n",
       "    \u001b[32m\"D N VALEN-S P F AVG\"\u001b[39m,\n",
       "    \u001b[32m\"http://nomisma.org/id/valens\"\u001b[39m,\n",
       "    \u001b[32m\"Victory advancing left, holding wreath and palm\"\u001b[39m,\n",
       "    \u001b[32m\"SECVRITAS-REIPVBLICAE\"\u001b[39m,\n",
       "    \u001b[32m\"http://collection.britishmuseum.org/id/person-institution/60915\"\u001b[39m,\n",
       "    \u001b[32m\"367\"\u001b[39m,\n",
       "    \u001b[32m\"375\"\u001b[39m\n",
       "  ),\n",
       "  \u001b[33mVector\u001b[39m(\n",
       "    \u001b[32m\"9.thes.27B.ii\"\u001b[39m,\n",
       "    \u001b[32m\"RIC IX Thessalonica 27B: Subtype ii\"\u001b[39m,\n",
       "..."
      ]
     },
     "execution_count": 5,
     "metadata": {},
     "output_type": "execute_result"
    }
   ],
   "source": [
    "val data = lines.tail.map(ln => ln.split(\"#\").toVector)"
   ]
  },
  {
   "cell_type": "markdown",
   "metadata": {},
   "source": [
    "Mapping each Vector to the first item in the Vector is equivalent to extracting the first column from each Vector.  The header line told us that the first column should contain ID values."
   ]
  },
  {
   "cell_type": "code",
   "execution_count": 7,
   "metadata": {
    "inputHidden": false,
    "outputHidden": false
   },
   "outputs": [
    {
     "data": {
      "text/plain": [
       "\u001b[36mids\u001b[39m: \u001b[32mVector\u001b[39m[\u001b[32mString\u001b[39m] = \u001b[33mVector\u001b[39m(\n",
       "  \u001b[32m\"Roma, helmeted, draped, standing left, holding Victory in extended right hand and vertical spear in left hand\"\u001b[39m,\n",
       "  \u001b[32m\"Victory advancing left, holding wreath and palm\"\u001b[39m,\n",
       "  \u001b[32m\"Victory advancing left, holding wreath and palm\"\u001b[39m,\n",
       "  \u001b[32m\"Pax, draped, standing left, holding olive branch in right hand and sceptre in left hand\"\u001b[39m,\n",
       "  \u001b[32m\"Victory advancing left, holding wreath and palm\"\u001b[39m,\n",
       "  \u001b[32m\"Sol, chlamys hanging behind, standing left, raising right hand and holding globe close to body in left hand\"\u001b[39m,\n",
       "  \u001b[32m\"Sol, chlamys hanging behind, standing left, raising right hand and holding globe close to body in left hand\"\u001b[39m,\n",
       "  \u001b[32m\"Sol, chlamys hanging behind, standing left, raising right hand and holding up globe in left hand\"\u001b[39m,\n",
       "  \u001b[32m\"Sol, chlamys hanging behind, standing left, raising right hand and holding up globe in left hand\"\u001b[39m,\n",
       "  \u001b[32m\"Sol, chlamys hanging behind, standing left, raising right hand and holding up globe in left hand\"\u001b[39m,\n",
       "  \u001b[32m\"Roma, helmeted, draped, seated front, head left, seated front in hexastyle temple, holding globe in right hand and sceptre in left hand, to left, shield; in pediment, wreath\"\u001b[39m,\n",
       "  \u001b[32m\"Mars, standing right, leaning on reversed spear (or sceptre) with right hand and placing left hand on shield\"\u001b[39m,\n",
       "  \u001b[32m\"Jupiter, nude except of cloak draped over left shoulder, standing left, holding thunderbolt in right hand and sceptre in left hand\"\u001b[39m,\n",
       "  \u001b[32m\"Mars, standing left, head right, leaning on reversed spear (or sceptre) with right hand and placing left hand on shield\"\u001b[39m,\n",
       "  \u001b[32m\"Hercules, standing right, leaning on cub with right hand and holding Victory on globe and lion's skin in left hand\"\u001b[39m,\n",
       "  \u001b[32m\"Genius, wearing modius, nude, chlamys draped over left shoulder, standing left, holding patera in right hand and cornucopiae in left hand\"\u001b[39m,\n",
       "  \u001b[32m\"Genius, wearing modius, nude, chlamys draped over left shoulder, standing left, holding patera in right hand and cornucopiae in left hand\"\u001b[39m,\n",
       "  \u001b[32m\"Herennius, in military attire, standing left, holding wand in right hand and transverse spear in left hand\"\u001b[39m,\n",
       "  \u001b[32m\"Genius, wearing modius, nude, chlamys draped over left shoulder, standing left, holding patera in right hand and cornucopiae in left hand\"\u001b[39m,\n",
       "  \u001b[32m\"Genius, wearing modius, nude, chlamys draped over left shoulder, standing left, holding patera in right hand and cornucopiae in left hand\"\u001b[39m,\n",
       "..."
      ]
     },
     "execution_count": 7,
     "metadata": {},
     "output_type": "execute_result"
    }
   ],
   "source": [
    "val ids = data.map(columns => columns(10))"
   ]
  },
  {
   "cell_type": "code",
   "execution_count": null,
   "metadata": {
    "inputHidden": false,
    "outputHidden": false
   },
   "outputs": [],
   "source": []
  }
 ],
 "metadata": {
  "kernel_info": {
   "name": "scala212"
  },
  "kernelspec": {
   "display_name": "Scala (2.12)",
   "language": "scala",
   "name": "scala212"
  },
  "language_info": {
   "codemirror_mode": "text/x-scala",
   "file_extension": ".scala",
   "mimetype": "text/x-scala",
   "name": "scala",
   "nbconvert_exporter": "script",
   "version": "2.12.10"
  },
  "nteract": {
   "version": "0.15.0"
  }
 },
 "nbformat": 4,
 "nbformat_minor": 2
}
